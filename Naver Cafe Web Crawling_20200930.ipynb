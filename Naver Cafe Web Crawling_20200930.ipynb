{
 "cells": [
  {
   "cell_type": "code",
   "execution_count": 1,
   "metadata": {},
   "outputs": [],
   "source": [
    "from selenium import webdriver\n",
    "from selenium.webdriver.common.keys import Keys\n",
    "import time\n",
    "import pyperclip\n",
    "from bs4 import BeautifulSoup\n",
    "\n",
    "driver = webdriver.Chrome('driver/chromedriver')\n",
    "driver.get(\"https://nid.naver.com/nidlogin.login\")\n",
    "time.sleep(1)\n",
    "\n",
    "\n",
    "# id, pw 입력할 곳을 찾습니다.\n",
    "tag_id = driver.find_element_by_id(\"id\")\n",
    "tag_pw = driver.find_element_by_id(\"pw\")\n",
    "tag_id.clear()\n",
    "time.sleep(1)\n",
    "\n",
    "# id 입력\n",
    "tag_id.click()\n",
    "pyperclip.copy('namsik')\n",
    "tag_id.send_keys(Keys.CONTROL, 'v')\n",
    "time.sleep(1)\n",
    "\n",
    "# pw 입력\n",
    "tag_pw.click()\n",
    "pyperclip.copy('namju2620')\n",
    "tag_pw.send_keys(Keys.CONTROL, 'v')\n",
    "time.sleep(1)\n",
    "\n",
    "# 로그인 버튼을 클릭합니다\n",
    "login_btn = driver.find_element_by_id('log.login')\n",
    "login_btn.click()\n",
    "time.sleep(3)"
   ]
  },
  {
   "cell_type": "code",
   "execution_count": 2,
   "metadata": {},
   "outputs": [],
   "source": [
    "test_list = []\n",
    "\n",
    "for page_num in range(1, 100):\n",
    "    base_url = \"https://cafe.naver.com/ArticleList.nhn?search.clubid=28326943&search.boardtype=L&search.page={0}\".format(page_num)\n",
    "    time.sleep(0.5)\n",
    "    driver.get(base_url)\n",
    "    driver.switch_to.frame('cafe_main')\n",
    "    \n",
    "    html = driver.page_source\n",
    "    bs = BeautifulSoup(html, 'lxml')\n",
    "    \n",
    "    # 작성 게시\n",
    "    td_results = bs.find_all('td', class_ = 'td_article')\n",
    "    test_list.append(td_results)    "
   ]
  },
  {
   "cell_type": "code",
   "execution_count": 3,
   "metadata": {},
   "outputs": [],
   "source": [
    "result_ban = []\n",
    "result_url = []\n",
    "\n",
    "for page in test_list:\n",
    "    for td in page:\n",
    "        tmp = str(td)\n",
    "        idx = tmp.find('학부모')\n",
    "        \n",
    "        if idx > 1:\n",
    "            tmp_td = tmp[idx - 4:idx].strip()\n",
    "            result_ban.append(tmp_td)\n",
    "            \n",
    "            idx2 = tmp.find('href=\"/ArticleRead.nhn?clubid=28326943')\n",
    "            idx3 = tmp.find('onclick=\"clickcr(this, ')\n",
    "            \n",
    "            tmp_url = 'https://cafe.naver.com' + tmp[idx2 + 6 : idx3 - 2].replace(\"&amp;\", \"&\").strip()\n",
    "            \n",
    "            result_url.append(tmp_url)"
   ]
  },
  {
   "cell_type": "code",
   "execution_count": 68,
   "metadata": {},
   "outputs": [
    {
     "ename": "KeyboardInterrupt",
     "evalue": "",
     "output_type": "error",
     "traceback": [
      "\u001b[1;31m---------------------------------------------------------------------------\u001b[0m",
      "\u001b[1;31mKeyboardInterrupt\u001b[0m                         Traceback (most recent call last)",
      "\u001b[1;32m<ipython-input-68-28267567b15d>\u001b[0m in \u001b[0;36m<module>\u001b[1;34m\u001b[0m\n\u001b[0;32m      2\u001b[0m \u001b[1;32mfor\u001b[0m \u001b[0murl\u001b[0m \u001b[1;32min\u001b[0m \u001b[0mresult_url\u001b[0m\u001b[1;33m:\u001b[0m\u001b[1;33m\u001b[0m\u001b[1;33m\u001b[0m\u001b[0m\n\u001b[0;32m      3\u001b[0m     \u001b[0mdriver\u001b[0m\u001b[1;33m.\u001b[0m\u001b[0mget\u001b[0m\u001b[1;33m(\u001b[0m\u001b[0murl\u001b[0m\u001b[1;33m)\u001b[0m\u001b[1;33m\u001b[0m\u001b[1;33m\u001b[0m\u001b[0m\n\u001b[1;32m----> 4\u001b[1;33m     \u001b[0mtime\u001b[0m\u001b[1;33m.\u001b[0m\u001b[0msleep\u001b[0m\u001b[1;33m(\u001b[0m\u001b[1;36m1\u001b[0m\u001b[1;33m)\u001b[0m\u001b[1;33m\u001b[0m\u001b[1;33m\u001b[0m\u001b[0m\n\u001b[0m\u001b[0;32m      5\u001b[0m     \u001b[0mdriver\u001b[0m\u001b[1;33m.\u001b[0m\u001b[0mswitch_to\u001b[0m\u001b[1;33m.\u001b[0m\u001b[0mframe\u001b[0m\u001b[1;33m(\u001b[0m\u001b[1;34m'cafe_main'\u001b[0m\u001b[1;33m)\u001b[0m\u001b[1;33m\u001b[0m\u001b[1;33m\u001b[0m\u001b[0m\n\u001b[0;32m      6\u001b[0m \u001b[1;33m\u001b[0m\u001b[0m\n",
      "\u001b[1;31mKeyboardInterrupt\u001b[0m: "
     ]
    }
   ],
   "source": [
    "contents_list = []\n",
    "for url in result_url:\n",
    "    driver.get(url)\n",
    "    time.sleep(1)\n",
    "    driver.switch_to.frame('cafe_main')\n",
    "    \n",
    "    html = driver.page_source\n",
    "    bs = BeautifulSoup(html, 'html.parser')\n",
    "    text = \"\"\n",
    "    for el in bs.find_all('div', class_ = 'se-module se-module-text'):\n",
    "        text += el.get_text() + \" \"\n",
    "        \n",
    "    contents_list.append(text.replace(\"\\n\", \"\"))"
   ]
  },
  {
   "cell_type": "code",
   "execution_count": 5,
   "metadata": {},
   "outputs": [
    {
     "data": {
      "text/html": [
       "<div>\n",
       "<style scoped>\n",
       "    .dataframe tbody tr th:only-of-type {\n",
       "        vertical-align: middle;\n",
       "    }\n",
       "\n",
       "    .dataframe tbody tr th {\n",
       "        vertical-align: top;\n",
       "    }\n",
       "\n",
       "    .dataframe thead th {\n",
       "        text-align: right;\n",
       "    }\n",
       "</style>\n",
       "<table border=\"1\" class=\"dataframe\">\n",
       "  <thead>\n",
       "    <tr style=\"text-align: right;\">\n",
       "      <th></th>\n",
       "      <th>BAN</th>\n",
       "      <th>URL</th>\n",
       "      <th>TEXT</th>\n",
       "    </tr>\n",
       "  </thead>\n",
       "  <tbody>\n",
       "    <tr>\n",
       "      <th>0</th>\n",
       "      <td>EU반</td>\n",
       "      <td>https://cafe.naver.com/ArticleRead.nhn?clubid=...</td>\n",
       "      <td>추석인데도 새로운 도전을 위해 멀리 있는 우리 예인이에게 무슨 기쁨을 줄 수 있을까...</td>\n",
       "    </tr>\n",
       "    <tr>\n",
       "      <th>1</th>\n",
       "      <td>TG반</td>\n",
       "      <td>https://cafe.naver.com/ArticleRead.nhn?clubid=...</td>\n",
       "      <td>울 아들  마음이  어찌 이렇게도 이쁜지ㆍ할머니  계속 3번이나 장난 전화줄알고 막...</td>\n",
       "    </tr>\n",
       "    <tr>\n",
       "      <th>2</th>\n",
       "      <td>EH반</td>\n",
       "      <td>https://cafe.naver.com/ArticleRead.nhn?clubid=...</td>\n",
       "      <td>밤새 안녕?ㅋㅋ추석인데 맛있는것두 못먹었지? 엄마도 선영이 없어서 입맛이 돌지 않아...</td>\n",
       "    </tr>\n",
       "    <tr>\n",
       "      <th>3</th>\n",
       "      <td>EU반</td>\n",
       "      <td>https://cafe.naver.com/ArticleRead.nhn?clubid=...</td>\n",
       "      <td>수진아어제 추석이었지송편은 주드나올해는 울 찐이도 없고 쪼매쓸쓸했어수진이도 그랬지 ...</td>\n",
       "    </tr>\n",
       "    <tr>\n",
       "      <th>4</th>\n",
       "      <td>EO반</td>\n",
       "      <td>https://cafe.naver.com/ArticleRead.nhn?clubid=...</td>\n",
       "      <td>추석은 경건하게 보내구있는 굉이들살쪘다 너무 많이 먹어서 그런가?실컷 먹었다 엄청 ...</td>\n",
       "    </tr>\n",
       "    <tr>\n",
       "      <th>...</th>\n",
       "      <td>...</td>\n",
       "      <td>...</td>\n",
       "      <td>...</td>\n",
       "    </tr>\n",
       "    <tr>\n",
       "      <th>1353</th>\n",
       "      <td>EH반</td>\n",
       "      <td>https://cafe.naver.com/ArticleRead.nhn?clubid=...</td>\n",
       "      <td></td>\n",
       "    </tr>\n",
       "    <tr>\n",
       "      <th>1354</th>\n",
       "      <td>EH반</td>\n",
       "      <td>https://cafe.naver.com/ArticleRead.nhn?clubid=...</td>\n",
       "      <td></td>\n",
       "    </tr>\n",
       "    <tr>\n",
       "      <th>1355</th>\n",
       "      <td>EH반</td>\n",
       "      <td>https://cafe.naver.com/ArticleRead.nhn?clubid=...</td>\n",
       "      <td></td>\n",
       "    </tr>\n",
       "    <tr>\n",
       "      <th>1356</th>\n",
       "      <td>EH반</td>\n",
       "      <td>https://cafe.naver.com/ArticleRead.nhn?clubid=...</td>\n",
       "      <td></td>\n",
       "    </tr>\n",
       "    <tr>\n",
       "      <th>1357</th>\n",
       "      <td>EH반</td>\n",
       "      <td>https://cafe.naver.com/ArticleRead.nhn?clubid=...</td>\n",
       "      <td></td>\n",
       "    </tr>\n",
       "  </tbody>\n",
       "</table>\n",
       "<p>1358 rows × 3 columns</p>\n",
       "</div>"
      ],
      "text/plain": [
       "      BAN                                                URL  \\\n",
       "0     EU반  https://cafe.naver.com/ArticleRead.nhn?clubid=...   \n",
       "1     TG반  https://cafe.naver.com/ArticleRead.nhn?clubid=...   \n",
       "2     EH반  https://cafe.naver.com/ArticleRead.nhn?clubid=...   \n",
       "3     EU반  https://cafe.naver.com/ArticleRead.nhn?clubid=...   \n",
       "4     EO반  https://cafe.naver.com/ArticleRead.nhn?clubid=...   \n",
       "...   ...                                                ...   \n",
       "1353  EH반  https://cafe.naver.com/ArticleRead.nhn?clubid=...   \n",
       "1354  EH반  https://cafe.naver.com/ArticleRead.nhn?clubid=...   \n",
       "1355  EH반  https://cafe.naver.com/ArticleRead.nhn?clubid=...   \n",
       "1356  EH반  https://cafe.naver.com/ArticleRead.nhn?clubid=...   \n",
       "1357  EH반  https://cafe.naver.com/ArticleRead.nhn?clubid=...   \n",
       "\n",
       "                                                   TEXT  \n",
       "0     추석인데도 새로운 도전을 위해 멀리 있는 우리 예인이에게 무슨 기쁨을 줄 수 있을까...  \n",
       "1     울 아들  마음이  어찌 이렇게도 이쁜지ㆍ할머니  계속 3번이나 장난 전화줄알고 막...  \n",
       "2     밤새 안녕?ㅋㅋ추석인데 맛있는것두 못먹었지? 엄마도 선영이 없어서 입맛이 돌지 않아...  \n",
       "3     수진아어제 추석이었지송편은 주드나올해는 울 찐이도 없고 쪼매쓸쓸했어수진이도 그랬지 ...  \n",
       "4     추석은 경건하게 보내구있는 굉이들살쪘다 너무 많이 먹어서 그런가?실컷 먹었다 엄청 ...  \n",
       "...                                                 ...  \n",
       "1353                                                     \n",
       "1354                                                     \n",
       "1355                                                     \n",
       "1356                                                     \n",
       "1357                                                     \n",
       "\n",
       "[1358 rows x 3 columns]"
      ]
     },
     "execution_count": 5,
     "metadata": {},
     "output_type": "execute_result"
    }
   ],
   "source": [
    "import pandas as pd\n",
    "df = pd.DataFrame({\"BAN\":result_ban, \"URL\":result_url, \"TEXT\":contents_list})\n",
    "df"
   ]
  },
  {
   "cell_type": "code",
   "execution_count": 36,
   "metadata": {},
   "outputs": [],
   "source": [
    "data = df[df['TEXT'].str.len() > 0]"
   ]
  },
  {
   "cell_type": "code",
   "execution_count": 37,
   "metadata": {},
   "outputs": [
    {
     "data": {
      "text/plain": [
       "(975, 3)"
      ]
     },
     "execution_count": 37,
     "metadata": {},
     "output_type": "execute_result"
    }
   ],
   "source": [
    "data.shape"
   ]
  },
  {
   "cell_type": "code",
   "execution_count": 39,
   "metadata": {},
   "outputs": [
    {
     "data": {
      "text/plain": [
       "EO반    213\n",
       "EH반    181\n",
       "TM반    162\n",
       "ER반    104\n",
       "TC반     79\n",
       "TG반     77\n",
       "EU반     74\n",
       "TA반     49\n",
       "TI반     36\n",
       "Name: BAN, dtype: int64"
      ]
     },
     "execution_count": 39,
     "metadata": {},
     "output_type": "execute_result"
    }
   ],
   "source": [
    "data['BAN'].value_counts()"
   ]
  },
  {
   "cell_type": "code",
   "execution_count": 56,
   "metadata": {},
   "outputs": [],
   "source": [
    "word_list = []\n",
    "for row in data['TEXT']:\n",
    "    words = row.split(' ')\n",
    "    for word in words:\n",
    "        if len(word.strip()) > 0:\n",
    "            word_list.append(word)"
   ]
  },
  {
   "cell_type": "code",
   "execution_count": 65,
   "metadata": {},
   "outputs": [],
   "source": [
    "word_count = dict()\n",
    "for i in word_list:\n",
    "    word_count[i] = word_count.get(i, 0) + 1\n",
    "    \n",
    "word_count_sort = sorted(word_count.items(), key=lambda x:-x[1])[:10]    "
   ]
  },
  {
   "cell_type": "code",
   "execution_count": 67,
   "metadata": {},
   "outputs": [
    {
     "data": {
      "text/plain": [
       "[('잘', 978),\n",
       " ('많이', 440),\n",
       " ('더', 395),\n",
       " ('오늘', 318),\n",
       " ('좀', 294),\n",
       " ('엄마가', 294),\n",
       " ('너무', 285),\n",
       " ('하고', 281),\n",
       " ('수', 277),\n",
       " ('다', 234)]"
      ]
     },
     "execution_count": 67,
     "metadata": {},
     "output_type": "execute_result"
    }
   ],
   "source": [
    "word_count_sort"
   ]
  },
  {
   "cell_type": "code",
   "execution_count": null,
   "metadata": {},
   "outputs": [],
   "source": []
  }
 ],
 "metadata": {
  "kernelspec": {
   "display_name": "Python 3",
   "language": "python",
   "name": "python3"
  },
  "language_info": {
   "codemirror_mode": {
    "name": "ipython",
    "version": 3
   },
   "file_extension": ".py",
   "mimetype": "text/x-python",
   "name": "python",
   "nbconvert_exporter": "python",
   "pygments_lexer": "ipython3",
   "version": "3.7.6"
  }
 },
 "nbformat": 4,
 "nbformat_minor": 4
}
